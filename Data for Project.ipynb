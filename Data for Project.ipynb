{
 "cells": [
  {
   "cell_type": "code",
   "execution_count": 9,
   "id": "e3a28d06",
   "metadata": {},
   "outputs": [
    {
     "name": "stdout",
     "output_type": "stream",
     "text": [
      "Enter the latitude:49.2497\n",
      "49.2497\n",
      "Enter the longitude:-123.1193\n",
      "-123.1193\n",
      "Enter the altitude:70\n",
      "70\n"
     ]
    },
    {
     "data": {
      "text/plain": [
       "<AxesSubplot:xlabel='time'>"
      ]
     },
     "execution_count": 9,
     "metadata": {},
     "output_type": "execute_result"
    },
    {
     "data": {
      "image/png": "[encoded data removed]",
      "text/plain": [
       "<Figure size 432x288 with 1 Axes>"
      ]
     },
     "metadata": {
      "needs_background": "light"
     },
     "output_type": "display_data"
    }
   ],
   "source": [
    "from datetime import datetime\n",
    "import matplotlib.pyplot as plt\n",
    "from meteostat import Point, Daily\n",
    "import pandas as pd\n",
    "from itertools import cycle, islice\n",
    "\n",
    "# Set date\n",
    "date = datetime(2019, 1, 31)\n",
    "\n",
    "#Input Parameters to Identify Location\n",
    "latitude=float(input(\"Enter the latitude:\"))\n",
    "print(latitude)\n",
    "longitude=float(input(\"Enter the longitude:\"))\n",
    "print(longitude)\n",
    "altitude=int(input(\"Enter the altitude:\"))\n",
    "print(altitude)\n",
    "    \n",
    "#Create Point for Location\n",
    "location=Point(latitude, longitude, altitude)\n",
    "\n",
    "#Get daily data\n",
    "data = Daily(location, date, date)\n",
    "data = data.fetch()\n",
    "\n",
    "#Accessing data\n",
    "s=data['tavg']\n",
    "avg_temp=s[0]\n",
    "t=data['tmin']\n",
    "min_temp=t[0]\n",
    "u=data['tmax']\n",
    "max_temp=u[0]\n",
    "\n",
    "#need the base temp to calculate GDD\n",
    "#gdd= (max_temp+min_temp)/2 + base_temp\n",
    "\n",
    "#Graph\n",
    "my_colors = list(islice(cycle(['#2b7a78', '#3aafa9', '#def2f1']),3))\n",
    "data.plot(y=['tavg','tmin','tmax'], kind='bar', color=my_colors)"
   ]
  }
 ],
 "metadata": {
  "kernelspec": {
   "display_name": "Python 3",
   "language": "python",
   "name": "python3"
  },
  "language_info": {
   "codemirror_mode": {
    "name": "ipython",
    "version": 3
   },
   "file_extension": ".py",
   "mimetype": "text/x-python",
   "name": "python",
   "nbconvert_exporter": "python",
   "pygments_lexer": "ipython3",
   "version": "3.8.8"
  }
 },
 "nbformat": 4,
 "nbformat_minor": 5
}
