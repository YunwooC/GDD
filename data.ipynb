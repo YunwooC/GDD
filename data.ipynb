{
 "cells": [
  {
   "cell_type": "code",
   "execution_count": 9,
   "source": [
    "from datetime import datetime \r\n",
    "import matplotlib.pyplot as plt\r\n",
    "from meteostat import Point, Daily\r\n",
    "import pandas as pd\r\n",
    "from itertools import cycle, islice\r\n",
    "\r\n",
    "#Input Parameters to Identify Location\r\n",
    "latitude=float(input(\"Enter the latitude:\"))\r\n",
    "print(latitude)\r\n",
    "longitude=float(input(\"Enter the longitude:\"))\r\n",
    "print(longitude)\r\n",
    "altitude=int(input(\"Enter the altitude:\"))\r\n",
    "print(altitude)\r\n",
    "\r\n",
    "#input date\r\n",
    "start=str(input(\"Enter the start date(yyyy/mm/dd):\"))\r\n",
    "print(start)\r\n",
    "yr=int(start[0:4])\r\n",
    "mon=int(start[5:7])\r\n",
    "dd=int(start[8:10])\r\n",
    "end=str(input(\"Enter the end date(yyyy/mm/dd):\"))\r\n",
    "print(end)\r\n",
    "eyr=int(end[0:4])\r\n",
    "emon=int(end[5:7])\r\n",
    "edd=int(end[8:10])\r\n",
    "#set date\r\n",
    "start_date=datetime(yr,mon,dd)\r\n",
    "date=datetime(eyr,emon,edd)\r\n",
    "diff=(date-start_date).days\r\n",
    "\r\n",
    "#enter base temp\r\n",
    "temp=int(input(\"Enter base temperature:(C)\"))\r\n",
    "print(temp)\r\n",
    "\r\n",
    "#Create Point for Location\r\n",
    "location=Point(latitude, longitude, altitude)\r\n",
    "\r\n",
    "#Get daily data\r\n",
    "data = Daily(location, start_date, date)\r\n",
    "data = data.fetch()\r\n",
    "\r\n",
    "#Accessing data\r\n",
    "s=data['tavg']\r\n",
    "t=data['tmin']\r\n",
    "u=data['tmax']\r\n",
    "\r\n",
    "#need the base temp to calculate GDD\r\n",
    "GDD=[0]\r\n",
    "gdd=0\r\n",
    "for i in range(diff):\r\n",
    "  avg=s[i]\r\n",
    "  if avg<=temp:\r\n",
    "    g=0\r\n",
    "  else:\r\n",
    "    g=avg-temp\r\n",
    "  gdd+=g\r\n",
    "  GDD.append(gdd)\r\n",
    "data[\"GDD\"]=GDD\r\n",
    "\r\n",
    "#Graph\r\n",
    "my_colors = list(islice(cycle(['#2b7a78', '#3aafa9', '#def2f1']),3))\r\n",
    "data.plot(y=['tavg','tmin','tmax'], kind='line', color=my_colors)\r\n",
    "data.plot(y=['GDD'], kind='line', color=\"red\")\r\n"
   ],
   "outputs": [
    {
     "output_type": "stream",
     "name": "stdout",
     "text": [
      "Enter the latitude:49.2497\n",
      "49.2497\n",
      "Enter the longitude:-123.1193\n",
      "-123.1193\n",
      "Enter the altitude:70\n",
      "70\n"
     ]
    },
    {
     "output_type": "execute_result",
     "data": {
      "text/plain": [
       "<AxesSubplot:xlabel='time'>"
      ]
     },
     "metadata": {},
     "execution_count": 9
    },
    {
     "output_type": "display_data",
     "data": {
      "text/plain": [
       "<Figure size 432x288 with 1 Axes>"
      ],
      "image/png": "[encoded data removed]"
     },
     "metadata": {
      "needs_background": "light"
     }
    }
   ],
   "metadata": {}
  }
 ],
 "metadata": {
  "kernelspec": {
   "display_name": "Python 3",
   "language": "python",
   "name": "python3"
  },
  "language_info": {
   "codemirror_mode": {
    "name": "ipython",
    "version": 3
   },
   "file_extension": ".py",
   "mimetype": "text/x-python",
   "name": "python",
   "nbconvert_exporter": "python",
   "pygments_lexer": "ipython3",
   "version": "3.8.8"
  }
 },
 "nbformat": 4,
 "nbformat_minor": 5
}